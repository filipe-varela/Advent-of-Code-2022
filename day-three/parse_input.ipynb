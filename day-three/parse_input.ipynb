{
 "cells": [
  {
   "cell_type": "code",
   "execution_count": null,
   "metadata": {},
   "outputs": [],
   "source": [
    "from itertools import chain"
   ]
  },
  {
   "cell_type": "markdown",
   "metadata": {},
   "source": [
    "# First Question"
   ]
  },
  {
   "cell_type": "code",
   "execution_count": null,
   "metadata": {},
   "outputs": [],
   "source": [
    "with open('input.txt', 'r') as input_file:\n",
    "    data = [s.rstrip() for s in input_file.readlines()]"
   ]
  },
  {
   "cell_type": "code",
   "execution_count": null,
   "metadata": {},
   "outputs": [],
   "source": [
    "def range_char(start: str, stop: str):\n",
    "    return (chr(c) for c in range(ord(start), ord(stop)+1))\n",
    "\n",
    "priorities_dict = dict(zip(chain(range_char('a', 'z'), range_char('A', 'Z')), range(1,53)))\n",
    "priorities_dict"
   ]
  },
  {
   "cell_type": "code",
   "execution_count": null,
   "metadata": {},
   "outputs": [],
   "source": [
    "finder_list = []\n",
    "for line in data:\n",
    "    first_half = line[:len(line)//2]\n",
    "    second_half = line[len(line)//2:]\n",
    "    for letter in first_half:\n",
    "        if letter in second_half:\n",
    "            finder_list.append([letter, priorities_dict[letter]])\n",
    "            break\n",
    "\n",
    "finder_list"
   ]
  },
  {
   "cell_type": "code",
   "execution_count": null,
   "metadata": {},
   "outputs": [],
   "source": [
    "sum((l[1] for l in finder_list))"
   ]
  },
  {
   "cell_type": "markdown",
   "metadata": {},
   "source": [
    "# Second Question"
   ]
  },
  {
   "cell_type": "code",
   "execution_count": null,
   "metadata": {},
   "outputs": [],
   "source": [
    "group_list = ((data[group], data[group+1], data[group+2], letter, priorities_dict[letter]) for group in range(0,len(data),3) for letter in data[group] if letter in data[group+1] and letter in data[group+2])\n",
    "sum(l[4] for l in set(group_list))"
   ]
  }
 ],
 "metadata": {
  "kernelspec": {
   "display_name": "Python 3.10.8 ('.venv': venv)",
   "language": "python",
   "name": "python3"
  },
  "language_info": {
   "codemirror_mode": {
    "name": "ipython",
    "version": 3
   },
   "file_extension": ".py",
   "mimetype": "text/x-python",
   "name": "python",
   "nbconvert_exporter": "python",
   "pygments_lexer": "ipython3",
   "version": "3.10.8"
  },
  "orig_nbformat": 4,
  "vscode": {
   "interpreter": {
    "hash": "bf87e5ceacc8e5abe5dc1a2a5be7448fe051c91c0396ae76b8c19c03ca7e24be"
   }
  }
 },
 "nbformat": 4,
 "nbformat_minor": 2
}
