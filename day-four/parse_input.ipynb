{
 "cells": [
  {
   "cell_type": "code",
   "execution_count": null,
   "metadata": {},
   "outputs": [],
   "source": [
    "with open(\"input.txt\", 'r') as input_file:\n",
    "    data = [[*line.rstrip().split(\",\")[0].split(\"-\"), *line.rstrip().split(\",\")[-1].split(\"-\")] for line in input_file]\n",
    "\n",
    "data[:5]"
   ]
  },
  {
   "cell_type": "code",
   "execution_count": null,
   "metadata": {},
   "outputs": [],
   "source": [
    "int_data = ([range(int(line[0]), int(line[1])+1), range(int(line[2]), int(line[3])+1)] for line in data)\n",
    "\n",
    "def is_overlapped(pair):\n",
    "    if len(pair[0]) >= len(pair[1]):\n",
    "        return pair[0][0] <= pair[1][0] and pair[0][-1] >= pair[1][-1]\n",
    "    elif len(pair[0]) < len(pair[1]):\n",
    "        return pair[0][-1] <= pair[1][-1] and pair[0][0] >= pair[1][0]\n",
    "    else:\n",
    "        return pair[0][-1] is pair[1][-1] and pair[0][0] is pair[1][0]\n",
    "\n",
    "sum(is_overlapped(pair) for pair in int_data)"
   ]
  },
  {
   "cell_type": "code",
   "execution_count": null,
   "metadata": {},
   "outputs": [],
   "source": [
    "int_data = ([range(int(line[0]), int(line[1])+1), range(int(line[2]), int(line[3])+1)] for line in data)\n",
    "\n",
    "def does_intersect(pair: list):\n",
    "    small_list = pair[1] if len(pair[0]) >= len(pair[1]) else pair[0]\n",
    "    bigger_list = pair[0] if len(pair[0]) >= len(pair[1]) else pair[1]\n",
    "    for element in small_list:\n",
    "        if element in bigger_list:\n",
    "            return True\n",
    "    return False\n",
    "\n",
    "sum(does_intersect(pair) for pair in int_data)"
   ]
  }
 ],
 "metadata": {
  "kernelspec": {
   "display_name": "Python 3.10.8 ('.venv': venv)",
   "language": "python",
   "name": "python3"
  },
  "language_info": {
   "codemirror_mode": {
    "name": "ipython",
    "version": 3
   },
   "file_extension": ".py",
   "mimetype": "text/x-python",
   "name": "python",
   "nbconvert_exporter": "python",
   "pygments_lexer": "ipython3",
   "version": "3.10.8"
  },
  "orig_nbformat": 4,
  "vscode": {
   "interpreter": {
    "hash": "bf87e5ceacc8e5abe5dc1a2a5be7448fe051c91c0396ae76b8c19c03ca7e24be"
   }
  }
 },
 "nbformat": 4,
 "nbformat_minor": 2
}
