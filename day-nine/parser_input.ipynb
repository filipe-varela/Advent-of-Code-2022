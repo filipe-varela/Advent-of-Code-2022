{
 "cells": [
  {
   "cell_type": "code",
   "execution_count": null,
   "metadata": {},
   "outputs": [],
   "source": [
    "import numpy as np\n",
    "from knot import Knot, Tail"
   ]
  },
  {
   "cell_type": "code",
   "execution_count": null,
   "metadata": {},
   "outputs": [],
   "source": [
    "def read_input(src: str):\n",
    "    returning_list = []\n",
    "    with open(src, 'r') as input_file:\n",
    "        for row in input_file.read().strip().split('\\n'):\n",
    "            direction, steps = row.split(' ')\n",
    "            returning_list.append([direction, int(steps)])\n",
    "    return returning_list\n",
    "\n",
    "data = read_input('example.txt')\n",
    "data"
   ]
  },
  {
   "cell_type": "code",
   "execution_count": null,
   "metadata": {},
   "outputs": [],
   "source": [
    "head = Knot(desc='H')\n",
    "tail = Tail(head, 'T')\n",
    "for dir, dis in data:\n",
    "    print(f\"{dir=}\\t{dis=}\")\n",
    "    for inc in range(dis):\n",
    "        head.move(dir)\n",
    "        tail.move()\n",
    "        print(head.pos, tail.pos)\n",
    "    "
   ]
  },
  {
   "cell_type": "code",
   "execution_count": null,
   "metadata": {},
   "outputs": [],
   "source": [
    "tail.passing_by()"
   ]
  },
  {
   "cell_type": "code",
   "execution_count": null,
   "metadata": {},
   "outputs": [],
   "source": [
    "head = Knot(desc='H')\n",
    "tail = Tail(head, desc='T')\n",
    "for dir, dis in read_input(\"input.txt\"):\n",
    "    for inc in range(dis):\n",
    "        head.move(dir)\n",
    "        tail.move()\n",
    "\n",
    "tail.passing_by()"
   ]
  },
  {
   "cell_type": "code",
   "execution_count": null,
   "metadata": {},
   "outputs": [],
   "source": [
    "rope = [Knot('H')]\n",
    "\n",
    "for i in range(9): rope.append(Tail(rope[-1], f'{i+1}'))\n",
    "\n",
    "for dir, dis in read_input(\"larger_example.txt\"):\n",
    "    print(f\"{dir=}\\t{dis=}\")\n",
    "    for inc in range(dis):\n",
    "        s = \"\"\n",
    "        for i in range(len(rope)):\n",
    "            rope[i].move(dir)\n",
    "            s += f\"{i}:{rope[i].pos}  \"\n",
    "        print(s)\n",
    "\n",
    "rope[-1].passing_by()"
   ]
  },
  {
   "cell_type": "code",
   "execution_count": null,
   "metadata": {},
   "outputs": [],
   "source": [
    "import sys, time\n",
    "from IPython.display import display, clear_output\n",
    "from scenario import Canvas\n",
    "\n",
    "c = Canvas()\n",
    "for i in range(5):\n",
    "    time.sleep(0.75)\n",
    "    clear_output(wait=True)\n",
    "    c.draw_point(\"A\", [i,0])\n",
    "    c.draw_point(\"B\", [0,i])\n",
    "    c.draw_point(\"C\", [i,i])\n",
    "    c.draw_point(\"D\", [-i,0])\n",
    "    c.draw_point(\"E\", [0,-i])\n",
    "    c.draw_point(\"F\", [-i,-i])\n",
    "    c.draw_point(\"s\", [0,0])\n",
    "    c.draw()\n",
    "    sys.stdout.flush()"
   ]
  },
  {
   "cell_type": "code",
   "execution_count": null,
   "metadata": {},
   "outputs": [],
   "source": [
    "rope = [Knot(desc='H')]\n",
    "\n",
    "for i in range(9): rope.append(Tail(rope[-1], f'{i+1}'))\n",
    "\n",
    "for dire, dis in read_input(\"input.txt\"):\n",
    "    for inc in range(dis):\n",
    "        for i in range(len(rope)):\n",
    "            rope[i].move(dire)\n",
    "\n",
    "rope[-1].passing_by()"
   ]
  },
  {
   "cell_type": "code",
   "execution_count": 6,
   "metadata": {},
   "outputs": [
    {
     "name": "stdout",
     "output_type": "stream",
     "text": [
      ". . . . H . . . . . . . . . . . . . . . . . . . . . . . . . .\n",
      ". . . . 1 . . . . . . . . . . . . . . . . . . . . . . . . . .\n",
      ". . . . 2 . . . . . . . . . . . . . . . . . . . . . . . . . .\n",
      ". . . . 3 . . . . . . . . . . . . . . . . . . . . . . . . . .\n",
      ". . . . 4 . . . . . . . . . . . . . . . . . . . . . . . . . .\n",
      ". . . . 5 . . . . . . . . . . . . . . . . . . . . . . . . . .\n",
      ". . . . 6 . . . . . . . . . . . . . . . . . . . . . . . . . .\n",
      ". . . . 7 . . . . . . . . . . . . . . . . . . . . . . . . . .\n",
      ". . . . 8 . . . . . . . . . . . . . . . . . . . . . . . . . .\n",
      ". . . . 9 . . . . . . . . . . . . . . . . . . . . . . . . . .\n",
      ". . . . . . . . . . . . . . . . . . . . . . . . . . . . . . .\n",
      ". . . . . . . . . . . . . . . . . . . . . . . . . . . . . . .\n",
      ". . . . . . . . . . . . . . . . . . . . . . . . . . . . . . .\n",
      ". . . . . . . . . . . . . . . . . . . . . . . . . . . . . . .\n",
      ". . . . . . . . . . . . . . . . . . . . . . . . . . . . . . .\n",
      ". . . . . . . . . . . . . . . s . . . . . . . . . . . . . . .\n",
      ". . . . . . . . . . . . . . . . . . . . . . . . . . . . . . .\n",
      ". . . . . . . . . . . . . . . . . . . . . . . . . . . . . . .\n",
      ". . . . . . . . . . . . . . . . . . . . . . . . . . . . . . .\n",
      ". . . . . . . . . . . . . . . . . . . . . . . . . . . . . . .\n",
      ". . . . . . . . . . . . . . . . . . . . . . . . . . . . . . .\n",
      ". . . . . . . . . . . . . . . . . . . . . . . . . . . . . . .\n",
      ". . . . . . . . . . . . . . . . . . . . . . . . . . . . . . .\n",
      ". . . . . . . . . . . . . . . . . . . . . . . . . . . . . . .\n",
      ". . . . . . . . . . . . . . . . . . . . . . . . . . . . . . .\n",
      ". . . . . . . . . . . . . . . . . . . . . . . . . . . . . . .\n",
      ". . . . . . . . . . . . . . . . . . . . . . . . . . . . . . .\n",
      ". . . . . . . . . . . . . . . . . . . . . . . . . . . . . . .\n",
      ". . . . . . . . . . . . . . . . . . . . . . . . . . . . . . .\n",
      ". . . . . . . . . . . . . . . . . . . . . . . . . . . . . . .\n",
      ". . . . . . . . . . . . . . . . . . . . . . . . . . . . . . .\n"
     ]
    },
    {
     "data": {
      "text/plain": [
       "36"
      ]
     },
     "execution_count": 6,
     "metadata": {},
     "output_type": "execute_result"
    }
   ],
   "source": [
    "from knot import Knot, Tail\n",
    "import sys, time\n",
    "from IPython.display import display, clear_output\n",
    "from scenario import Canvas\n",
    "\n",
    "def read_input(src: str):\n",
    "    returning_list = []\n",
    "    with open(src, 'r') as input_file:\n",
    "        for row in input_file.read().strip().split('\\n'):\n",
    "            direction, steps = row.split(' ')\n",
    "            returning_list.append([direction, int(steps)])\n",
    "    return returning_list\n",
    "\n",
    "################################################################ \n",
    "\n",
    "rope = [Knot(desc=\"H\")]\n",
    "\n",
    "for i in range(9): rope.append(Tail(rope[-1], desc=f\"{i+1}\"))\n",
    "\n",
    "c = Canvas()\n",
    "\n",
    "for dire, dis in read_input(\"larger_example.txt\"):\n",
    "    for _ in range(dis):\n",
    "        time.sleep(0.25)\n",
    "        clear_output(wait=True)\n",
    "        for i in range(len(rope)):\n",
    "            rope[i].move(dire)\n",
    "        c.draw_point('s', [0,0])\n",
    "        for i in range(len(rope)-1, -1, -1):\n",
    "            c.draw_point(rope[i].desc, rope[i].pos)\n",
    "        c.draw()\n",
    "        sys.stdout.flush()\n",
    "\n",
    "rope[-1].passing_by()"
   ]
  }
 ],
 "metadata": {
  "kernelspec": {
   "display_name": ".venv",
   "language": "python",
   "name": "python3"
  },
  "language_info": {
   "codemirror_mode": {
    "name": "ipython",
    "version": 3
   },
   "file_extension": ".py",
   "mimetype": "text/x-python",
   "name": "python",
   "nbconvert_exporter": "python",
   "pygments_lexer": "ipython3",
   "version": "3.10.9"
  },
  "orig_nbformat": 4,
  "vscode": {
   "interpreter": {
    "hash": "bf87e5ceacc8e5abe5dc1a2a5be7448fe051c91c0396ae76b8c19c03ca7e24be"
   }
  }
 },
 "nbformat": 4,
 "nbformat_minor": 2
}
