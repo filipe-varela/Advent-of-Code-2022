{
 "cells": [
  {
   "cell_type": "code",
   "execution_count": 12,
   "metadata": {},
   "outputs": [],
   "source": [
    "import numpy as np"
   ]
  },
  {
   "cell_type": "code",
   "execution_count": 13,
   "metadata": {},
   "outputs": [
    {
     "data": {
      "text/plain": [
       "(array([[3, 0],\n",
       "        [2, 5]]),\n",
       " array([[3, 0, 3, 7, 3],\n",
       "        [2, 5, 5, 1, 2],\n",
       "        [6, 5, 3, 3, 2],\n",
       "        [3, 3, 5, 4, 9],\n",
       "        [3, 5, 3, 9, 0]]))"
      ]
     },
     "execution_count": 13,
     "metadata": {},
     "output_type": "execute_result"
    }
   ],
   "source": [
    "def read_input(src: str) -> list[list[int]]:\n",
    "    returning_list = []\n",
    "    with open(src, 'r') as input_file:\n",
    "        for row in input_file.read().strip().split('\\n'):\n",
    "            tmp_list = []\n",
    "            for letter in row:\n",
    "                tmp_list.append(int(letter))\n",
    "            returning_list.append(list(tmp_list))\n",
    "        return returning_list\n",
    "\n",
    "data = np.array(read_input('example.txt'))\n",
    "data[:2,:2], data"
   ]
  },
  {
   "cell_type": "code",
   "execution_count": 14,
   "metadata": {},
   "outputs": [
    {
     "data": {
      "text/plain": [
       "array([[3, 5, 3, 9, 0],\n",
       "       [3, 3, 5, 4, 9],\n",
       "       [6, 5, 3, 3, 2],\n",
       "       [2, 5, 5, 1, 2],\n",
       "       [3, 0, 3, 7, 3]])"
      ]
     },
     "execution_count": 14,
     "metadata": {},
     "output_type": "execute_result"
    }
   ],
   "source": [
    "np.flip(data, axis=0)"
   ]
  },
  {
   "cell_type": "code",
   "execution_count": 15,
   "metadata": {},
   "outputs": [
    {
     "data": {
      "text/plain": [
       "(array([[1, 1, 1, 1, 1],\n",
       "        [1, 0, 0, 0, 1],\n",
       "        [1, 0, 0, 0, 1],\n",
       "        [1, 0, 0, 0, 1],\n",
       "        [1, 1, 1, 1, 1]]),\n",
       " 16)"
      ]
     },
     "execution_count": 15,
     "metadata": {},
     "output_type": "execute_result"
    }
   ],
   "source": [
    "def reset_vis_trees(d:np.array) -> np.array:\n",
    "    visible_trees = np.ones_like(data)\n",
    "    visible_trees[1:-1,1:-1] = np.zeros_like(visible_trees[1:-1,1:-1])\n",
    "    return visible_trees\n",
    "\n",
    "visible_trees = reset_vis_trees(data)\n",
    "visible_trees, sum(sum(visible_trees))"
   ]
  },
  {
   "cell_type": "code",
   "execution_count": 16,
   "metadata": {},
   "outputs": [
    {
     "name": "stdout",
     "output_type": "stream",
     "text": [
      "Top\n",
      "[[3 0 3 7 3]\n",
      " [2 5 5 1 2]\n",
      " [6 5 3 3 2]\n",
      " [3 3 5 4 9]\n",
      " [3 5 3 9 0]]\n",
      "[[1 1 1 1 1]\n",
      " [1 1 1 0 1]\n",
      " [1 0 0 0 1]\n",
      " [1 0 0 0 1]\n",
      " [1 1 1 1 1]]\n",
      "\n",
      "\n"
     ]
    }
   ],
   "source": [
    "visible_trees = reset_vis_trees(data)\n",
    "def top_direction(dat: np.array, vis_trees: np.array):\n",
    "    NJ, NI = dat.shape\n",
    "    for i in range(1,NI-1):\n",
    "        column = dat[:,i]\n",
    "        index = np.argmax(column)\n",
    "        while column.shape[0] > 1:\n",
    "            vis_trees[index,i] = 1\n",
    "            column = column[:index]\n",
    "            index = np.argmax(column) if column.size != 0 else 0\n",
    "\n",
    "top_direction(data, visible_trees)\n",
    "print(\"Top\", data, visible_trees, sep=\"\\n\", end=\"\\n\\n\\n\")"
   ]
  },
  {
   "cell_type": "code",
   "execution_count": 17,
   "metadata": {},
   "outputs": [
    {
     "name": "stdout",
     "output_type": "stream",
     "text": [
      "Left\n",
      "[[3 0 3 7 3]\n",
      " [2 5 5 1 2]\n",
      " [6 5 3 3 2]\n",
      " [3 3 5 4 9]\n",
      " [3 5 3 9 0]]\n",
      "[[1 1 1 1 1]\n",
      " [1 1 0 0 1]\n",
      " [1 0 0 0 1]\n",
      " [1 0 1 0 1]\n",
      " [1 1 1 1 1]]\n",
      "\n",
      "\n"
     ]
    }
   ],
   "source": [
    "visible_trees = reset_vis_trees(data)\n",
    "def left_direction(dat: np.array, vis_trees: np.array):\n",
    "    NI, NJ = dat.shape\n",
    "    for i in range(1,NJ-1):\n",
    "        column = dat[i,:]\n",
    "        index = np.argmax(column)\n",
    "        while column.shape[0] != 0:\n",
    "            vis_trees[i,index] = 1\n",
    "            column = column[:index]\n",
    "            index = np.argmax(column) if column.size != 0 else 0\n",
    "\n",
    "left_direction(data,visible_trees)\n",
    "print(\"Left\", data, visible_trees, sep=\"\\n\", end=\"\\n\\n\\n\")"
   ]
  },
  {
   "cell_type": "code",
   "execution_count": 18,
   "metadata": {},
   "outputs": [],
   "source": [
    "def reverse_argmax(self):\n",
    "    return self.shape[0] - np.argmax(np.flip(np.copy(self)))\n",
    "\n",
    "np.reverse_argmax = reverse_argmax"
   ]
  },
  {
   "cell_type": "code",
   "execution_count": 23,
   "metadata": {},
   "outputs": [
    {
     "name": "stdout",
     "output_type": "stream",
     "text": [
      "Right\n",
      "[[3 0 3 7 3]\n",
      " [2 5 5 1 2]\n",
      " [6 5 3 3 2]\n",
      " [3 3 5 4 9]\n",
      " [3 5 3 9 0]]\n",
      "[[1 1 1 1 1]\n",
      " [1 0 1 0 1]\n",
      " [1 1 0 1 1]\n",
      " [1 0 0 0 1]\n",
      " [1 1 1 1 1]]\n",
      "\n",
      "\n"
     ]
    }
   ],
   "source": [
    "visible_trees = reset_vis_trees(data)\n",
    "def right_direction(dat: np.array, vis_trees: np.array):\n",
    "    tmp_dat, tmp_vis = np.flip(dat, axis=1), np.flip(vis_trees, axis=1)\n",
    "    NI, NJ = tmp_dat.shape\n",
    "    for i in range(1,NJ-1):\n",
    "        column = tmp_dat[i,:]\n",
    "        index = np.argmax(column)\n",
    "        while column.shape[0] != 0:\n",
    "            tmp_vis[i,index] = 1\n",
    "            column = column[:index]\n",
    "            index = np.argmax(column) if column.size != 0 else 0\n",
    "    vis_trees = np.flip(tmp_vis, axis=1)\n",
    "\n",
    "right_direction(data,visible_trees)\n",
    "print(\"Right\", data, visible_trees, sep=\"\\n\", end=\"\\n\\n\\n\")"
   ]
  },
  {
   "cell_type": "code",
   "execution_count": 24,
   "metadata": {},
   "outputs": [
    {
     "name": "stdout",
     "output_type": "stream",
     "text": [
      "Bottom\n",
      "[[3 0 3 7 3]\n",
      " [2 5 5 1 2]\n",
      " [6 5 3 3 2]\n",
      " [3 3 5 4 9]\n",
      " [3 5 3 9 0]]\n",
      "[[1 1 1 1 1]\n",
      " [1 0 0 0 1]\n",
      " [1 0 0 0 1]\n",
      " [1 0 1 0 1]\n",
      " [1 1 1 1 1]]\n",
      "\n",
      "\n"
     ]
    }
   ],
   "source": [
    "visible_trees = reset_vis_trees(data)\n",
    "def bottom_direction(dat: np.array, vis_trees: np.array):\n",
    "    tmp_dat, tmp_vis = np.flip(dat, axis=0), np.flip(vis_trees, axis=0)\n",
    "    NJ, NI = dat.shape\n",
    "    for i in range(1,NI-1):\n",
    "        column = tmp_dat[:,i]\n",
    "        index = np.argmax(column)\n",
    "        while column.shape[0] > 1:\n",
    "            tmp_vis[index,i] = 1\n",
    "            column = column[:index]\n",
    "            index = np.argmax(column) if column.size != 0 else 0\n",
    "    vis_trees = np.flip(tmp_vis, axis=0)\n",
    "\n",
    "bottom_direction(data, visible_trees)\n",
    "print(\"Bottom\", data, visible_trees, sep=\"\\n\", end=\"\\n\\n\\n\")"
   ]
  },
  {
   "cell_type": "code",
   "execution_count": 27,
   "metadata": {},
   "outputs": [
    {
     "data": {
      "text/plain": [
       "1543"
      ]
     },
     "execution_count": 27,
     "metadata": {},
     "output_type": "execute_result"
    }
   ],
   "source": [
    "data = np.array(read_input('input.txt'))\n",
    "\n",
    "visible_trees = reset_vis_trees(data)\n",
    "\n",
    "NI, NJ = visible_trees.shape\n",
    "dir_dict = {\n",
    "    'top': top_direction,\n",
    "    'right': right_direction,\n",
    "    'bottom_direction': bottom_direction,\n",
    "    'left': left_direction\n",
    "}\n",
    "\n",
    "for direction in dir_dict.keys():\n",
    "    dir_dict[direction](data, visible_trees)\n",
    "\n",
    "sum(sum(visible_trees))  \n"
   ]
  }
 ],
 "metadata": {
  "kernelspec": {
   "display_name": ".venv",
   "language": "python",
   "name": "python3"
  },
  "language_info": {
   "codemirror_mode": {
    "name": "ipython",
    "version": 3
   },
   "file_extension": ".py",
   "mimetype": "text/x-python",
   "name": "python",
   "nbconvert_exporter": "python",
   "pygments_lexer": "ipython3",
   "version": "3.10.8"
  },
  "orig_nbformat": 4,
  "vscode": {
   "interpreter": {
    "hash": "868a05a85f009d73152844b0de17a84c91d12a0c1fd57de4e67eca2469f5b4ef"
   }
  }
 },
 "nbformat": 4,
 "nbformat_minor": 2
}
