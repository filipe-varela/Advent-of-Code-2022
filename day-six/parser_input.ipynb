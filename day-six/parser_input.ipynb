{
 "cells": [
  {
   "cell_type": "code",
   "execution_count": null,
   "metadata": {},
   "outputs": [],
   "source": [
    "with open('input.txt', 'r') as input_file:\n",
    "    data = input_file.readline()\n",
    "\n",
    "data"
   ]
  },
  {
   "cell_type": "code",
   "execution_count": null,
   "metadata": {},
   "outputs": [],
   "source": [
    "def find_marker(s: str, num_of_char: int = 4, log: bool = False):\n",
    "    print(f\"{len(s)=}\")\n",
    "    marker = []\n",
    "    for index, character in enumerate(s):\n",
    "        set_marker = set(marker)\n",
    "        if log:\n",
    "            print(index, character, marker, set_marker)\n",
    "        if len(set_marker) == num_of_char:\n",
    "            return marker, index\n",
    "        else:\n",
    "            if len(marker) == num_of_char:\n",
    "                marker.pop(0)\n",
    "            marker.append(character)"
   ]
  },
  {
   "cell_type": "code",
   "execution_count": null,
   "metadata": {},
   "outputs": [],
   "source": [
    "test_s = \"bvwbjplbgvbhsrlpgdmjqwftvncz\"\n",
    "find_marker(test_s)"
   ]
  },
  {
   "cell_type": "code",
   "execution_count": null,
   "metadata": {},
   "outputs": [],
   "source": [
    "find_marker(data)"
   ]
  },
  {
   "cell_type": "code",
   "execution_count": null,
   "metadata": {},
   "outputs": [],
   "source": [
    "find_marker(test_s, 14)"
   ]
  },
  {
   "cell_type": "code",
   "execution_count": null,
   "metadata": {},
   "outputs": [],
   "source": [
    "find_marker(data, 14)"
   ]
  }
 ],
 "metadata": {
  "kernelspec": {
   "display_name": "Python 3.10.9 ('.venv': venv)",
   "language": "python",
   "name": "python3"
  },
  "language_info": {
   "codemirror_mode": {
    "name": "ipython",
    "version": 3
   },
   "file_extension": ".py",
   "mimetype": "text/x-python",
   "name": "python",
   "nbconvert_exporter": "python",
   "pygments_lexer": "ipython3",
   "version": "3.10.9"
  },
  "orig_nbformat": 4,
  "vscode": {
   "interpreter": {
    "hash": "bf87e5ceacc8e5abe5dc1a2a5be7448fe051c91c0396ae76b8c19c03ca7e24be"
   }
  }
 },
 "nbformat": 4,
 "nbformat_minor": 2
}
