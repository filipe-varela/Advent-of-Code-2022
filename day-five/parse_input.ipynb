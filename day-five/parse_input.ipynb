{
 "cells": [
  {
   "cell_type": "code",
   "execution_count": null,
   "metadata": {},
   "outputs": [],
   "source": [
    "from stack import Stack"
   ]
  },
  {
   "cell_type": "code",
   "execution_count": null,
   "metadata": {},
   "outputs": [],
   "source": [
    "with open(\"input.txt\", 'r') as input_file:\n",
    "    data = input_file.read()\n",
    "    stacks = data.split('\\n\\n')[0]\n",
    "    movements = data.split('\\n\\n')[1].split('\\n')\n",
    "\n",
    "print(stacks)\n",
    "# print(movements)"
   ]
  },
  {
   "cell_type": "code",
   "execution_count": null,
   "metadata": {},
   "outputs": [],
   "source": [
    "mov = (m.split(' ') for m in movements)\n",
    "mov_crates = []*len(movements)\n",
    "for m in mov:\n",
    "    if m[0]:\n",
    "        mov_crates.append([int(m[1]), int(m[3])-1, int(m[-1])-1])\n",
    "mov_crates"
   ]
  },
  {
   "cell_type": "code",
   "execution_count": null,
   "metadata": {},
   "outputs": [],
   "source": [
    "num_of_stacks = [int(s.strip())-1 for s in stacks.split('\\n')[-1].split('   ')]\n",
    "num_of_stacks"
   ]
  },
  {
   "cell_type": "code",
   "execution_count": null,
   "metadata": {},
   "outputs": [],
   "source": [
    "row_crates = stacks.split('\\n')[:-1]\n",
    "crates_indexes = stacks.split('\\n')[-1]\n",
    "\n",
    "s = Stack()\n",
    "s_2 = Stack()\n",
    "for num in num_of_stacks:\n",
    "    tmp_list = []*len(row_crates[0])\n",
    "    for row in row_crates:\n",
    "        current_crate = row[crates_indexes.index(str(num+1))]\n",
    "        if current_crate.strip():\n",
    "            tmp_list.append(current_crate)\n",
    "    s.append(tmp_list.copy())\n",
    "    s_2.append(tmp_list.copy())"
   ]
  },
  {
   "cell_type": "code",
   "execution_count": null,
   "metadata": {},
   "outputs": [],
   "source": [
    "s"
   ]
  },
  {
   "cell_type": "code",
   "execution_count": null,
   "metadata": {},
   "outputs": [],
   "source": [
    "s_2"
   ]
  },
  {
   "cell_type": "code",
   "execution_count": null,
   "metadata": {},
   "outputs": [],
   "source": [
    "for m in mov_crates:\n",
    "    s[[*m, True]]\n",
    "    s_2[[*m, False]]\n",
    "\n",
    "s.get_last_indeces()"
   ]
  },
  {
   "cell_type": "code",
   "execution_count": null,
   "metadata": {},
   "outputs": [],
   "source": [
    "s_2.get_last_indeces()"
   ]
  }
 ],
 "metadata": {
  "kernelspec": {
   "display_name": "Python 3.10.9 ('.venv': venv)",
   "language": "python",
   "name": "python3"
  },
  "language_info": {
   "codemirror_mode": {
    "name": "ipython",
    "version": 3
   },
   "file_extension": ".py",
   "mimetype": "text/x-python",
   "name": "python",
   "nbconvert_exporter": "python",
   "pygments_lexer": "ipython3",
   "version": "3.10.9"
  },
  "orig_nbformat": 4,
  "vscode": {
   "interpreter": {
    "hash": "bf87e5ceacc8e5abe5dc1a2a5be7448fe051c91c0396ae76b8c19c03ca7e24be"
   }
  }
 },
 "nbformat": 4,
 "nbformat_minor": 2
}
