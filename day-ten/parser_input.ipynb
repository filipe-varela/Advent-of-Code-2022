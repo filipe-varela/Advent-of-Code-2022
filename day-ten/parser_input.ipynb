{
 "cells": [
  {
   "cell_type": "code",
   "execution_count": 2,
   "metadata": {},
   "outputs": [
    {
     "data": {
      "text/plain": [
       "[['addx', 15],\n",
       " ['addx', -11],\n",
       " ['addx', 6],\n",
       " ['addx', -3],\n",
       " ['addx', 5],\n",
       " ['addx', -1],\n",
       " ['addx', -8],\n",
       " ['addx', 13],\n",
       " ['addx', 4],\n",
       " ['noop', 0],\n",
       " ['addx', -1],\n",
       " ['addx', 5],\n",
       " ['addx', -1],\n",
       " ['addx', 5],\n",
       " ['addx', -1],\n",
       " ['addx', 5],\n",
       " ['addx', -1],\n",
       " ['addx', 5],\n",
       " ['addx', -1],\n",
       " ['addx', -35],\n",
       " ['addx', 1],\n",
       " ['addx', 24],\n",
       " ['addx', -19],\n",
       " ['addx', 1],\n",
       " ['addx', 16],\n",
       " ['addx', -11],\n",
       " ['noop', 0],\n",
       " ['noop', 0],\n",
       " ['addx', 21],\n",
       " ['addx', -15],\n",
       " ['noop', 0],\n",
       " ['noop', 0],\n",
       " ['addx', -3],\n",
       " ['addx', 9],\n",
       " ['addx', 1],\n",
       " ['addx', -3],\n",
       " ['addx', 8],\n",
       " ['addx', 1],\n",
       " ['addx', 5],\n",
       " ['noop', 0],\n",
       " ['noop', 0],\n",
       " ['noop', 0],\n",
       " ['noop', 0],\n",
       " ['noop', 0],\n",
       " ['addx', -36],\n",
       " ['noop', 0],\n",
       " ['addx', 1],\n",
       " ['addx', 7],\n",
       " ['noop', 0],\n",
       " ['noop', 0],\n",
       " ['noop', 0],\n",
       " ['addx', 2],\n",
       " ['addx', 6],\n",
       " ['noop', 0],\n",
       " ['noop', 0],\n",
       " ['noop', 0],\n",
       " ['noop', 0],\n",
       " ['noop', 0],\n",
       " ['addx', 1],\n",
       " ['noop', 0],\n",
       " ['noop', 0],\n",
       " ['addx', 7],\n",
       " ['addx', 1],\n",
       " ['noop', 0],\n",
       " ['addx', -13],\n",
       " ['addx', 13],\n",
       " ['addx', 7],\n",
       " ['noop', 0],\n",
       " ['addx', 1],\n",
       " ['addx', -33],\n",
       " ['noop', 0],\n",
       " ['noop', 0],\n",
       " ['noop', 0],\n",
       " ['addx', 2],\n",
       " ['noop', 0],\n",
       " ['noop', 0],\n",
       " ['noop', 0],\n",
       " ['addx', 8],\n",
       " ['noop', 0],\n",
       " ['addx', -1],\n",
       " ['addx', 2],\n",
       " ['addx', 1],\n",
       " ['noop', 0],\n",
       " ['addx', 17],\n",
       " ['addx', -9],\n",
       " ['addx', 1],\n",
       " ['addx', 1],\n",
       " ['addx', -3],\n",
       " ['addx', 11],\n",
       " ['noop', 0],\n",
       " ['noop', 0],\n",
       " ['addx', 1],\n",
       " ['noop', 0],\n",
       " ['addx', 1],\n",
       " ['noop', 0],\n",
       " ['noop', 0],\n",
       " ['addx', -13],\n",
       " ['addx', -19],\n",
       " ['addx', 1],\n",
       " ['addx', 3],\n",
       " ['addx', 26],\n",
       " ['addx', -30],\n",
       " ['addx', 12],\n",
       " ['addx', -1],\n",
       " ['addx', 3],\n",
       " ['addx', 1],\n",
       " ['noop', 0],\n",
       " ['noop', 0],\n",
       " ['noop', 0],\n",
       " ['addx', -9],\n",
       " ['addx', 18],\n",
       " ['addx', 1],\n",
       " ['addx', 2],\n",
       " ['noop', 0],\n",
       " ['noop', 0],\n",
       " ['addx', 9],\n",
       " ['noop', 0],\n",
       " ['noop', 0],\n",
       " ['noop', 0],\n",
       " ['addx', -1],\n",
       " ['addx', 2],\n",
       " ['addx', -37],\n",
       " ['addx', 1],\n",
       " ['addx', 3],\n",
       " ['noop', 0],\n",
       " ['addx', 15],\n",
       " ['addx', -21],\n",
       " ['addx', 22],\n",
       " ['addx', -6],\n",
       " ['addx', 1],\n",
       " ['noop', 0],\n",
       " ['addx', 2],\n",
       " ['addx', 1],\n",
       " ['noop', 0],\n",
       " ['addx', -10],\n",
       " ['noop', 0],\n",
       " ['noop', 0],\n",
       " ['addx', 20],\n",
       " ['addx', 1],\n",
       " ['addx', 2],\n",
       " ['addx', 2],\n",
       " ['addx', -6],\n",
       " ['addx', -11],\n",
       " ['noop', 0],\n",
       " ['noop', 0],\n",
       " ['noop', 0]]"
      ]
     },
     "execution_count": 2,
     "metadata": {},
     "output_type": "execute_result"
    }
   ],
   "source": [
    "def read_input(src: str):\n",
    "    returning_list = []\n",
    "    with open(src, 'r') as input_file:\n",
    "        for row in input_file.read().strip().split('\\n'):\n",
    "            if row.startswith('addx'):\n",
    "                command, value = row.split(' ')\n",
    "                returning_list.append([command, int(value)])\n",
    "            elif row.startswith('noop'):\n",
    "                returning_list.append([\"noop\", 0])\n",
    "    return returning_list\n",
    "\n",
    "data = read_input('example.txt')\n",
    "data"
   ]
  },
  {
   "cell_type": "code",
   "execution_count": 5,
   "metadata": {},
   "outputs": [
    {
     "name": "stdout",
     "output_type": "stream",
     "text": [
      "During the 20th cycle, X=21 and signal_strength=420\n",
      "During the 60th cycle, X=19 and signal_strength=1140\n",
      "During the 100th cycle, X=18 and signal_strength=1800\n",
      "During the 140th cycle, X=21 and signal_strength=2940\n",
      "During the 180th cycle, X=16 and signal_strength=2880\n",
      "During the 220th cycle, X=18 and signal_strength=3960\n"
     ]
    },
    {
     "data": {
      "text/plain": [
       "13140"
      ]
     },
     "execution_count": 5,
     "metadata": {},
     "output_type": "execute_result"
    }
   ],
   "source": [
    "def solve_day_ten(d: list[list[str, int]]) -> int:\n",
    "    X = 1\n",
    "    signal_strength = 0\n",
    "    sum_signal_strength = 0\n",
    "    print_cycles = [20, 60, 100, 140, 180, 220]\n",
    "    cycle_number = 0\n",
    "    for row in d:\n",
    "        if row[0] == 'noop':\n",
    "            for i in range(1):\n",
    "                cycle_number += 1\n",
    "                if cycle_number in print_cycles:\n",
    "                    signal_strength = cycle_number * X\n",
    "                    sum_signal_strength += signal_strength\n",
    "                    print(f\"During the {cycle_number}th cycle, {X=} and {signal_strength=}\")\n",
    "        elif row[0] == 'addx':\n",
    "            for i in range(2):\n",
    "                cycle_number += 1\n",
    "                if cycle_number in print_cycles:\n",
    "                    signal_strength = cycle_number * X\n",
    "                    sum_signal_strength += signal_strength\n",
    "                    print(f\"During the {cycle_number}th cycle, {X=} and {signal_strength=}\")\n",
    "            X += row[-1]\n",
    "    return sum_signal_strength\n",
    "\n",
    "solve_day_ten(data)"
   ]
  },
  {
   "cell_type": "code",
   "execution_count": 6,
   "metadata": {},
   "outputs": [
    {
     "name": "stdout",
     "output_type": "stream",
     "text": [
      "During the 20th cycle, X=17 and signal_strength=340\n",
      "During the 60th cycle, X=17 and signal_strength=1020\n",
      "During the 100th cycle, X=21 and signal_strength=2100\n",
      "During the 140th cycle, X=21 and signal_strength=2940\n",
      "During the 180th cycle, X=9 and signal_strength=1620\n",
      "During the 220th cycle, X=21 and signal_strength=4620\n"
     ]
    },
    {
     "data": {
      "text/plain": [
       "12640"
      ]
     },
     "execution_count": 6,
     "metadata": {},
     "output_type": "execute_result"
    }
   ],
   "source": [
    "solve_day_ten(read_input('input.txt'))"
   ]
  }
 ],
 "metadata": {
  "kernelspec": {
   "display_name": ".venv",
   "language": "python",
   "name": "python3"
  },
  "language_info": {
   "codemirror_mode": {
    "name": "ipython",
    "version": 3
   },
   "file_extension": ".py",
   "mimetype": "text/x-python",
   "name": "python",
   "nbconvert_exporter": "python",
   "pygments_lexer": "ipython3",
   "version": "3.10.9"
  },
  "orig_nbformat": 4,
  "vscode": {
   "interpreter": {
    "hash": "bf87e5ceacc8e5abe5dc1a2a5be7448fe051c91c0396ae76b8c19c03ca7e24be"
   }
  }
 },
 "nbformat": 4,
 "nbformat_minor": 2
}
