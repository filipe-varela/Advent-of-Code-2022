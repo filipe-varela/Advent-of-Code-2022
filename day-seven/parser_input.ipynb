{
 "cells": [
  {
   "cell_type": "code",
   "execution_count": 13,
   "metadata": {},
   "outputs": [],
   "source": [
    "import copy\n",
    "from filesystemgraph import FileSystemGraph"
   ]
  },
  {
   "cell_type": "code",
   "execution_count": 14,
   "metadata": {},
   "outputs": [
    {
     "data": {
      "text/plain": [
       "'7214296 k'"
      ]
     },
     "execution_count": 14,
     "metadata": {},
     "output_type": "execute_result"
    }
   ],
   "source": [
    "with open('example.txt', 'r') as input_file:\n",
    "    data = input_file.read().strip().split('\\n')\n",
    "data[-1]"
   ]
  },
  {
   "cell_type": "code",
   "execution_count": 15,
   "metadata": {},
   "outputs": [],
   "source": [
    "def read_command(list_of_commands: list[str], file_system: FileSystemGraph = None, folder_str: str = \"\", log: bool = False) -> dict[str,int]:\n",
    "    file_system = FileSystemGraph() if file_system == None else file_system.copy()\n",
    "    comand = list_of_commands[0] if len(list_of_commands) else \"exit\"\n",
    "    if log: print(f\"{file_system}\", f\"{comand=}\")\n",
    "    if comand != \"exit\":\n",
    "        if comand.startswith(\"$ cd\"):\n",
    "            if comand.split(\" \")[-1] == \"/\":\n",
    "                file_system[\"/\"] = 0\n",
    "                file_system.add_dir(\"/\")\n",
    "                return read_command(list_of_commands[1:], file_system, log=log)\n",
    "            elif comand.split(\" \")[-1] == \"..\": \n",
    "                file_system.pop()\n",
    "                return read_command(list_of_commands[1:], file_system, log=log) \n",
    "            else:\n",
    "                file_system.add_dir(comand.split(\" \")[-1])\n",
    "                return read_command(list_of_commands[1:], file_system, log=log)\n",
    "        elif comand.startswith('$ ls'): return read_command(list_of_commands[1:], file_system, log=log)\n",
    "        elif comand.startswith('dir '):\n",
    "            file_system[file_system.get_last_dir() + comand.split(\" \")[-1]] = 0\n",
    "            return read_command(list_of_commands[1:], file_system, log=log)\n",
    "        else:\n",
    "            dir_path = \"\"\n",
    "            for folders in file_system.folders():\n",
    "                dir_path += folders\n",
    "                file_system[dir_path] += int(comand.split(\" \")[0].strip())\n",
    "            return read_command(list_of_commands[1:], file_system, log=log)\n",
    "    else:\n",
    "        return file_system"
   ]
  },
  {
   "cell_type": "code",
   "execution_count": 16,
   "metadata": {},
   "outputs": [
    {
     "name": "stdout",
     "output_type": "stream",
     "text": [
      "self.filesystem={}\tself.list_of_dirs=[] comand='$ cd /'\n",
      "self.filesystem={'/': 0}\tself.list_of_dirs=['/'] comand='$ ls'\n",
      "self.filesystem={'/': 0}\tself.list_of_dirs=['/'] comand='dir a'\n",
      "self.filesystem={'/': 0, '/a': 0}\tself.list_of_dirs=['/'] comand='14848514 b.txt'\n",
      "self.filesystem={'/': 14848514, '/a': 0}\tself.list_of_dirs=['/'] comand='8504156 c.dat'\n",
      "self.filesystem={'/': 23352670, '/a': 0}\tself.list_of_dirs=['/'] comand='dir d'\n",
      "self.filesystem={'/': 23352670, '/a': 0, '/d': 0}\tself.list_of_dirs=['/'] comand='$ cd a'\n",
      "self.filesystem={'/': 23352670, '/a': 0, '/d': 0}\tself.list_of_dirs=['/', 'a'] comand='$ ls'\n",
      "self.filesystem={'/': 23352670, '/a': 0, '/d': 0}\tself.list_of_dirs=['/', 'a'] comand='dir e'\n",
      "self.filesystem={'/': 23352670, '/a': 0, '/d': 0, '/ae': 0}\tself.list_of_dirs=['/', 'a'] comand='29116 f'\n",
      "self.filesystem={'/': 23381786, '/a': 29116, '/d': 0, '/ae': 0}\tself.list_of_dirs=['/', 'a'] comand='2557 g'\n",
      "self.filesystem={'/': 23384343, '/a': 31673, '/d': 0, '/ae': 0}\tself.list_of_dirs=['/', 'a'] comand='62596 h.lst'\n",
      "self.filesystem={'/': 23446939, '/a': 94269, '/d': 0, '/ae': 0}\tself.list_of_dirs=['/', 'a'] comand='$ cd e'\n",
      "self.filesystem={'/': 23446939, '/a': 94269, '/d': 0, '/ae': 0}\tself.list_of_dirs=['/', 'a', 'e'] comand='$ ls'\n",
      "self.filesystem={'/': 23446939, '/a': 94269, '/d': 0, '/ae': 0}\tself.list_of_dirs=['/', 'a', 'e'] comand='584 i'\n",
      "self.filesystem={'/': 23447523, '/a': 94853, '/d': 0, '/ae': 584}\tself.list_of_dirs=['/', 'a', 'e'] comand='$ cd ..'\n",
      "self.filesystem={'/': 23447523, '/a': 94853, '/d': 0, '/ae': 584}\tself.list_of_dirs=['/', 'a'] comand='$ cd ..'\n",
      "self.filesystem={'/': 23447523, '/a': 94853, '/d': 0, '/ae': 584}\tself.list_of_dirs=['/'] comand='$ cd d'\n",
      "self.filesystem={'/': 23447523, '/a': 94853, '/d': 0, '/ae': 584}\tself.list_of_dirs=['/', 'd'] comand='$ ls'\n",
      "self.filesystem={'/': 23447523, '/a': 94853, '/d': 0, '/ae': 584}\tself.list_of_dirs=['/', 'd'] comand='4060174 j'\n",
      "self.filesystem={'/': 27507697, '/a': 94853, '/d': 4060174, '/ae': 584}\tself.list_of_dirs=['/', 'd'] comand='8033020 d.log'\n",
      "self.filesystem={'/': 35540717, '/a': 94853, '/d': 12093194, '/ae': 584}\tself.list_of_dirs=['/', 'd'] comand='5626152 d.ext'\n",
      "self.filesystem={'/': 41166869, '/a': 94853, '/d': 17719346, '/ae': 584}\tself.list_of_dirs=['/', 'd'] comand='7214296 k'\n",
      "self.filesystem={'/': 48381165, '/a': 94853, '/d': 24933642, '/ae': 584}\tself.list_of_dirs=['/', 'd'] comand='exit'\n"
     ]
    }
   ],
   "source": [
    "gile_system = read_command(data, log=True)"
   ]
  },
  {
   "cell_type": "code",
   "execution_count": 17,
   "metadata": {},
   "outputs": [
    {
     "data": {
      "text/plain": [
       "95437"
      ]
     },
     "execution_count": 17,
     "metadata": {},
     "output_type": "execute_result"
    }
   ],
   "source": [
    "counter = 0\n",
    "for keys in gile_system.keys():\n",
    "    counter += gile_system[keys] if gile_system[keys] <= 100_000 else 0\n",
    "\n",
    "counter"
   ]
  },
  {
   "cell_type": "code",
   "execution_count": 18,
   "metadata": {},
   "outputs": [
    {
     "data": {
      "text/plain": [
       "(21618835, 8381165)"
      ]
     },
     "execution_count": 18,
     "metadata": {},
     "output_type": "execute_result"
    }
   ],
   "source": [
    "unused_space = 70_000_000 - gile_system[\"/\"]\n",
    "necessary_space = 30_000_000 - unused_space\n",
    "unused_space, necessary_space"
   ]
  },
  {
   "cell_type": "code",
   "execution_count": 19,
   "metadata": {},
   "outputs": [
    {
     "data": {
      "text/plain": [
       "21618835"
      ]
     },
     "execution_count": 19,
     "metadata": {},
     "output_type": "execute_result"
    }
   ],
   "source": [
    "min_dir = unused_space\n",
    "for keys in gile_system.keys():\n",
    "    if gile_system[keys] > necessary_space and min_dir > gile_system[keys]:\n",
    "        min_dir = gile_system[keys]\n",
    "\n",
    "min_dir"
   ]
  }
 ],
 "metadata": {
  "kernelspec": {
   "display_name": "Python 3.10.9 ('.venv': venv)",
   "language": "python",
   "name": "python3"
  },
  "language_info": {
   "codemirror_mode": {
    "name": "ipython",
    "version": 3
   },
   "file_extension": ".py",
   "mimetype": "text/x-python",
   "name": "python",
   "nbconvert_exporter": "python",
   "pygments_lexer": "ipython3",
   "version": "3.10.9"
  },
  "orig_nbformat": 4,
  "vscode": {
   "interpreter": {
    "hash": "bf87e5ceacc8e5abe5dc1a2a5be7448fe051c91c0396ae76b8c19c03ca7e24be"
   }
  }
 },
 "nbformat": 4,
 "nbformat_minor": 2
}
